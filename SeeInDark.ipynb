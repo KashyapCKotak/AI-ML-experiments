{
  "nbformat": 4,
  "nbformat_minor": 0,
  "metadata": {
    "colab": {
      "name": "SeeInDark.ipynb",
      "version": "0.3.2",
      "provenance": [],
      "include_colab_link": true
    },
    "kernelspec": {
      "name": "python3",
      "display_name": "Python 3"
    },
    "accelerator": "GPU"
  },
  "cells": [
    {
      "cell_type": "markdown",
      "metadata": {
        "id": "view-in-github",
        "colab_type": "text"
      },
      "source": [
        "<a href=\"https://colab.research.google.com/github/KashyapCKotak/AI-ML-experiments/blob/master/SeeInDark.ipynb\" target=\"_parent\"><img src=\"https://colab.research.google.com/assets/colab-badge.svg\" alt=\"Open In Colab\"/></a>"
      ]
    },
    {
      "cell_type": "code",
      "metadata": {
        "id": "zuMNVBqt0u-H",
        "colab_type": "code",
        "outputId": "12730672-115e-400b-d9a9-3ee4d85651e7",
        "colab": {
          "base_uri": "https://localhost:8080/",
          "height": 34
        }
      },
      "source": [
        "import requests\n",
        "import os\n",
        "\n",
        "def download_file_from_google_drive(id, destination):\n",
        "    URL = \"https://docs.google.com/uc?export=download\"\n",
        "\n",
        "    session = requests.Session()\n",
        "\n",
        "    response = session.get(URL, params = { 'id' : id }, stream = True)\n",
        "    token = get_confirm_token(response)\n",
        "\n",
        "    if token:\n",
        "        params = { 'id' : id, 'confirm' : token }\n",
        "        response = session.get(URL, params = params, stream = True)\n",
        "\n",
        "    save_response_content(response, destination)    \n",
        "\n",
        "def get_confirm_token(response):\n",
        "    for key, value in response.cookies.items():\n",
        "        if key.startswith('download_warning'):\n",
        "            return value\n",
        "\n",
        "    return None\n",
        "\n",
        "def save_response_content(response, destination):\n",
        "    CHUNK_SIZE = 32768\n",
        "\n",
        "    with open(destination, \"wb\") as f:\n",
        "        for chunk in response.iter_content(CHUNK_SIZE):\n",
        "            if chunk: # filter out keep-alive new chunks\n",
        "                f.write(chunk)\n",
        "\n",
        "\n",
        "\n",
        "print('Dowloading Sony subset... (25GB)')\n",
        "download_file_from_google_drive('10kpAcvldtcb9G2ze5hTcF1odzu4V_Zvh', './Sony.zip')\n",
        "\n",
        "#print('Dowloading Fuji subset... (52GB)')\n",
        "#download_file_from_google_drive('12hvKCjwuilKTZPe9EZ7ZTb-azOmUA3HT', 'dataset/Fuji.zip')\n",
        "\n",
        "os.system('unzip ./Sony.zip -d dataset')\n",
        "#os.system('unzip dataset/Fuji.zip -d dataset')\n"
      ],
      "execution_count": 0,
      "outputs": [
        {
          "output_type": "stream",
          "text": [
            "Dowloading Sony subset... (25GB)\n"
          ],
          "name": "stdout"
        }
      ]
    },
    {
      "cell_type": "code",
      "metadata": {
        "id": "FsP1lrRN-HPz",
        "colab_type": "code",
        "colab": {}
      },
      "source": [
        "shutil.rmtree('dataset', ignore_errors=True, onerror=None)"
      ],
      "execution_count": 0,
      "outputs": []
    },
    {
      "cell_type": "code",
      "metadata": {
        "id": "P-_85I6g3eA5",
        "colab_type": "code",
        "outputId": "a45e6ed1-ec00-4408-eb2f-fd76141d66a4",
        "colab": {
          "base_uri": "https://localhost:8080/",
          "height": 34
        }
      },
      "source": [
        "os.system('unzip ./Sony.zip -d dataset')\n",
        "#os.system('unzip dataset/Fuji.zip -d dataset')"
      ],
      "execution_count": 0,
      "outputs": [
        {
          "output_type": "execute_result",
          "data": {
            "text/plain": [
              "0"
            ]
          },
          "metadata": {
            "tags": []
          },
          "execution_count": 31
        }
      ]
    },
    {
      "cell_type": "markdown",
      "metadata": {
        "id": "Z9yF04nOlUCP",
        "colab_type": "text"
      },
      "source": [
        "**Main Train Code:**\n",
        "================================="
      ]
    },
    {
      "cell_type": "code",
      "metadata": {
        "id": "m_zLVCtYlfSH",
        "colab_type": "code",
        "outputId": "b08b57f7-50cd-4dca-c1ac-48d4ea18c939",
        "colab": {
          "base_uri": "https://localhost:8080/",
          "height": 138
        }
      },
      "source": [
        "!pip install rawpy"
      ],
      "execution_count": 3,
      "outputs": [
        {
          "output_type": "stream",
          "text": [
            "Collecting rawpy\n",
            "\u001b[?25l  Downloading https://files.pythonhosted.org/packages/da/04/997062d83766f5fbfa4dc0d20180c5085b55a74e69559e9cb6d4f1e9550e/rawpy-0.13.1-cp36-cp36m-manylinux1_x86_64.whl (682kB)\n",
            "\r\u001b[K     |▌                               | 10kB 14.2MB/s eta 0:00:01\r\u001b[K     |█                               | 20kB 1.8MB/s eta 0:00:01\r\u001b[K     |█▍                              | 30kB 2.7MB/s eta 0:00:01\r\u001b[K     |██                              | 40kB 1.6MB/s eta 0:00:01\r\u001b[K     |██▍                             | 51kB 2.0MB/s eta 0:00:01\r\u001b[K     |██▉                             | 61kB 2.4MB/s eta 0:00:01\r\u001b[K     |███▍                            | 71kB 2.8MB/s eta 0:00:01\r\u001b[K     |███▉                            | 81kB 3.1MB/s eta 0:00:01\r\u001b[K     |████▎                           | 92kB 3.5MB/s eta 0:00:01\r\u001b[K     |████▉                           | 102kB 2.8MB/s eta 0:00:01\r\u001b[K     |█████▎                          | 112kB 2.8MB/s eta 0:00:01\r\u001b[K     |█████▊                          | 122kB 2.8MB/s eta 0:00:01\r\u001b[K     |██████▎                         | 133kB 2.8MB/s eta 0:00:01\r\u001b[K     |██████▊                         | 143kB 2.8MB/s eta 0:00:01\r\u001b[K     |███████▏                        | 153kB 2.8MB/s eta 0:00:01\r\u001b[K     |███████▊                        | 163kB 2.8MB/s eta 0:00:01\r\u001b[K     |████████▏                       | 174kB 2.8MB/s eta 0:00:01\r\u001b[K     |████████▋                       | 184kB 2.8MB/s eta 0:00:01\r\u001b[K     |█████████▏                      | 194kB 2.8MB/s eta 0:00:01\r\u001b[K     |█████████▋                      | 204kB 2.8MB/s eta 0:00:01\r\u001b[K     |██████████                      | 215kB 2.8MB/s eta 0:00:01\r\u001b[K     |██████████▋                     | 225kB 2.8MB/s eta 0:00:01\r\u001b[K     |███████████                     | 235kB 2.8MB/s eta 0:00:01\r\u001b[K     |███████████▌                    | 245kB 2.8MB/s eta 0:00:01\r\u001b[K     |████████████                    | 256kB 2.8MB/s eta 0:00:01\r\u001b[K     |████████████▌                   | 266kB 2.8MB/s eta 0:00:01\r\u001b[K     |█████████████                   | 276kB 2.8MB/s eta 0:00:01\r\u001b[K     |█████████████▍                  | 286kB 2.8MB/s eta 0:00:01\r\u001b[K     |██████████████                  | 296kB 2.8MB/s eta 0:00:01\r\u001b[K     |██████████████▍                 | 307kB 2.8MB/s eta 0:00:01\r\u001b[K     |██████████████▉                 | 317kB 2.8MB/s eta 0:00:01\r\u001b[K     |███████████████▍                | 327kB 2.8MB/s eta 0:00:01\r\u001b[K     |███████████████▉                | 337kB 2.8MB/s eta 0:00:01\r\u001b[K     |████████████████▎               | 348kB 2.8MB/s eta 0:00:01\r\u001b[K     |████████████████▉               | 358kB 2.8MB/s eta 0:00:01\r\u001b[K     |█████████████████▎              | 368kB 2.8MB/s eta 0:00:01\r\u001b[K     |█████████████████▊              | 378kB 2.8MB/s eta 0:00:01\r\u001b[K     |██████████████████▎             | 389kB 2.8MB/s eta 0:00:01\r\u001b[K     |██████████████████▊             | 399kB 2.8MB/s eta 0:00:01\r\u001b[K     |███████████████████▏            | 409kB 2.8MB/s eta 0:00:01\r\u001b[K     |███████████████████▊            | 419kB 2.8MB/s eta 0:00:01\r\u001b[K     |████████████████████▏           | 430kB 2.8MB/s eta 0:00:01\r\u001b[K     |████████████████████▋           | 440kB 2.8MB/s eta 0:00:01\r\u001b[K     |█████████████████████▏          | 450kB 2.8MB/s eta 0:00:01\r\u001b[K     |█████████████████████▋          | 460kB 2.8MB/s eta 0:00:01\r\u001b[K     |██████████████████████          | 471kB 2.8MB/s eta 0:00:01\r\u001b[K     |██████████████████████▋         | 481kB 2.8MB/s eta 0:00:01\r\u001b[K     |███████████████████████         | 491kB 2.8MB/s eta 0:00:01\r\u001b[K     |███████████████████████▌        | 501kB 2.8MB/s eta 0:00:01\r\u001b[K     |████████████████████████        | 512kB 2.8MB/s eta 0:00:01\r\u001b[K     |████████████████████████▌       | 522kB 2.8MB/s eta 0:00:01\r\u001b[K     |█████████████████████████       | 532kB 2.8MB/s eta 0:00:01\r\u001b[K     |█████████████████████████▍      | 542kB 2.8MB/s eta 0:00:01\r\u001b[K     |██████████████████████████      | 552kB 2.8MB/s eta 0:00:01\r\u001b[K     |██████████████████████████▍     | 563kB 2.8MB/s eta 0:00:01\r\u001b[K     |██████████████████████████▉     | 573kB 2.8MB/s eta 0:00:01\r\u001b[K     |███████████████████████████▍    | 583kB 2.8MB/s eta 0:00:01\r\u001b[K     |███████████████████████████▉    | 593kB 2.8MB/s eta 0:00:01\r\u001b[K     |████████████████████████████▎   | 604kB 2.8MB/s eta 0:00:01\r\u001b[K     |████████████████████████████▉   | 614kB 2.8MB/s eta 0:00:01\r\u001b[K     |█████████████████████████████▎  | 624kB 2.8MB/s eta 0:00:01\r\u001b[K     |█████████████████████████████▊  | 634kB 2.8MB/s eta 0:00:01\r\u001b[K     |██████████████████████████████▎ | 645kB 2.8MB/s eta 0:00:01\r\u001b[K     |██████████████████████████████▊ | 655kB 2.8MB/s eta 0:00:01\r\u001b[K     |███████████████████████████████▏| 665kB 2.8MB/s eta 0:00:01\r\u001b[K     |███████████████████████████████▊| 675kB 2.8MB/s eta 0:00:01\r\u001b[K     |████████████████████████████████| 686kB 2.8MB/s \n",
            "\u001b[?25hRequirement already satisfied: numpy in /usr/local/lib/python3.6/dist-packages (from rawpy) (1.16.4)\n",
            "Installing collected packages: rawpy\n",
            "Successfully installed rawpy-0.13.1\n"
          ],
          "name": "stdout"
        }
      ]
    },
    {
      "cell_type": "code",
      "metadata": {
        "id": "IogQOu0slZNT",
        "colab_type": "code",
        "colab": {
          "base_uri": "https://localhost:8080/",
          "height": 34
        },
        "outputId": "0512fe74-bf95-499a-99d0-af5af4aa5d9f"
      },
      "source": [
        "from __future__ import division\n",
        "import os, time, scipy.io\n",
        "import tensorflow as tf\n",
        "import tensorflow.contrib.slim as slim\n",
        "import numpy as np\n",
        "import rawpy\n",
        "import glob\n",
        "import keras"
      ],
      "execution_count": 13,
      "outputs": [
        {
          "output_type": "stream",
          "text": [
            "Using TensorFlow backend.\n"
          ],
          "name": "stderr"
        }
      ]
    },
    {
      "cell_type": "code",
      "metadata": {
        "id": "-gTj24DXlazJ",
        "colab_type": "code",
        "colab": {}
      },
      "source": [
        "input_dir = '/content/drive/My Drive/Data/SeeInDarkDataset/dataset/Sony/short'\n",
        "gt_dir = '/content/drive/My Drive/Data/SeeInDarkDataset/dataset/Sony/long'\n",
        "os.mkdir('result_Sony')\n",
        "checkpoint_dir = './result_Sony/'\n",
        "result_dir = './result_Sony/'"
      ],
      "execution_count": 0,
      "outputs": []
    },
    {
      "cell_type": "code",
      "metadata": {
        "id": "k1bgs9-jrfgp",
        "colab_type": "code",
        "colab": {}
      },
      "source": [
        "train_fns = glob.glob(gt_dir + '0*.ARW')\n",
        "train_ids = [int(os.path.basename(train_fn)[0:5]) for train_fn in train_fns]"
      ],
      "execution_count": 0,
      "outputs": []
    },
    {
      "cell_type": "code",
      "metadata": {
        "id": "lbi6fY6ZiBz_",
        "colab_type": "code",
        "colab": {}
      },
      "source": [
        "ps = 512  # patch size for training\n",
        "save_freq = 500"
      ],
      "execution_count": 0,
      "outputs": []
    },
    {
      "cell_type": "code",
      "metadata": {
        "id": "V56pWdxpiGxk",
        "colab_type": "code",
        "colab": {}
      },
      "source": [
        "DEBUG = 0\n",
        "if DEBUG == 1:\n",
        "    save_freq = 2\n",
        "    train_ids = train_ids[0:5]"
      ],
      "execution_count": 0,
      "outputs": []
    },
    {
      "cell_type": "code",
      "metadata": {
        "id": "vexCrDNtiIrN",
        "colab_type": "code",
        "colab": {}
      },
      "source": [
        "def lrelu(x):\n",
        "    return tf.maximum(x * 0.2, x)"
      ],
      "execution_count": 0,
      "outputs": []
    },
    {
      "cell_type": "code",
      "metadata": {
        "id": "6ZkJ3o0ZiKQk",
        "colab_type": "code",
        "colab": {}
      },
      "source": [
        "def upsample_and_concat(x1, x2, output_channels, in_channels):\n",
        "    pool_size = 2\n",
        "    deconv_filter = tf.Variable(tf.truncated_normal([pool_size, pool_size, output_channels, in_channels], stddev=0.02))\n",
        "    deconv = tf.nn.conv2d_transpose(x1, deconv_filter, tf.shape(x2), strides=[1, pool_size, pool_size, 1])\n",
        "\n",
        "    deconv_output = tf.concat([deconv, x2], 3)\n",
        "    deconv_output.set_shape([None, None, None, output_channels * 2])\n",
        "\n",
        "    return deconv_output"
      ],
      "execution_count": 0,
      "outputs": []
    },
    {
      "cell_type": "code",
      "metadata": {
        "id": "QUz7pW3dm8Qh",
        "colab_type": "code",
        "colab": {}
      },
      "source": [
        "def network(input):\n",
        "    \n",
        "    #definition: slim.conv2d(inputs,number of outputs, kernel shape)\n",
        "    #definition: slim.max_pool2d(inputs,kernel_size, padding)\n",
        "    #conv1 = slim.conv2d(input, 32, [3, 3], rate=1, activation_fn=lrelu, scope='g_conv1_1')\n",
        "    conv1=keras.layers.Conv2D(input_shape=[],filters=32,kernel_size=(3,3),strides=(1,1))(inputs)\n",
        "    conv1=keras.layers.LeakyReLU(alpha=0.2)(conv1)\n",
        "    #conv1 = slim.conv2d(conv1, 32, [3, 3], rate=1, activation_fn=lrelu, scope='g_conv1_2')\n",
        "    conv1=keras.layers.Conv2D(filters=32,kernel_size=(3,3),strides=(1,1))(conv1)\n",
        "    conv1=keras.layers.LeakyReLU(alpha=0.2)(conv1)\n",
        "    #pool1 = slim.max_pool2d(conv1, [2, 2], padding='SAME')\n",
        "    pool1=keras.layers.MaxPooling2D(pool_size=(2,2),padding=\"same\")(conv1)\n",
        "    \n",
        "    #conv2 = slim.conv2d(pool1, 64, [3, 3], rate=1, activation_fn=lrelu, scope='g_conv2_1')\n",
        "    conv2=keras.layers.Conv2D(filters=64,kernel_size=(3,3),strides=(1,1))(pool1)\n",
        "    conv2=keras.layers.LeakyReLU(alpha=0.2)(conv2)\n",
        "    #conv2 = slim.conv2d(conv2, 64, [3, 3], rate=1, activation_fn=lrelu, scope='g_conv2_2')\n",
        "    conv2=keras.layers.Conv2D(filters=64,kernel_size=(3,3),strides=(1,1))(conv2)\n",
        "    conv2=keras.layers.LeakyReLU(alpha=0.2)(conv2)\n",
        "    #pool2 = slim.max_pool2d(conv2, [2, 2], padding='SAME')\n",
        "    pool2=keras.layers.MaxPooling2D(pool_size=(2,2),padding=\"same\")(conv2)\n",
        "    \n",
        "    #conv3 = slim.conv2d(pool2, 128, [3, 3], rate=1, activation_fn=lrelu, scope='g_conv3_1')\n",
        "    conv3=keras.layers.Conv2D(filters=128,kernel_size=(3,3),strides=(1,1))(pool2)\n",
        "    conv3=keras.layers.LeakyReLU(alpha=0.2)(conv3)\n",
        "    #conv3 = slim.conv2d(conv3, 128, [3, 3], rate=1, activation_fn=lrelu, scope='g_conv3_2')\n",
        "    conv3=keras.layers.Conv2D(filters=128,kernel_size=(3,3),strides=(1,1))(conv3)\n",
        "    conv3=keras.layers.LeakyReLU(alpha=0.2)(conv3)\n",
        "    #pool3 = slim.max_pool2d(conv3, [2, 2], padding='SAME')\n",
        "    pool3=keras.layers.MaxPooling2D(pool_size=(2,2),padding=\"same\")(conv3)\n",
        "    \n",
        "    #conv4 = slim.conv2d(pool3, 256, [3, 3], rate=1, activation_fn=lrelu, scope='g_conv4_1')\n",
        "    conv4=keras.layers.Conv2D(filters=256,kernel_size=(3,3),strides=(1,1))(pool3)\n",
        "    conv4=keras.layers.LeakyReLU(alpha=0.2)(conv4)\n",
        "    #conv4 = slim.conv2d(conv4, 256, [3, 3], rate=1, activation_fn=lrelu, scope='g_conv4_2')\n",
        "    conv4=keras.layers.Conv2D(filters=256,kernel_size=(3,3),strides=(1,1))(conv4)\n",
        "    conv4=model.add(keras.layers.LeakyReLU(alpha=0.2)(conv4)\n",
        "    #pool4 = slim.max_pool2d(conv4, [2, 2], padding='SAME')\n",
        "    pool4=keras.layers.MaxPooling2D(pool_size=(2,2),padding=\"same\"))(conv4)\n",
        "    \n",
        "    #conv5 = slim.conv2d(pool4, 512, [3, 3], rate=1, activation_fn=lrelu, scope='g_conv5_1')\n",
        "    conv5=keras.layers.Conv2D(filters=512,kernel_size=(3,3),strides=(1,1))(pool4)\n",
        "    conv5=keras.layers.LeakyReLU(alpha=0.2)(conv5)\n",
        "    #conv5 = slim.conv2d(conv5, 512, [3, 3], rate=1, activation_fn=lrelu, scope='g_conv5_2')\n",
        "    conv5=keras.layers.Conv2D(filters=512,kernel_size=(3,3),strides=(1,1))(conv5)\n",
        "    conv5=keras.layers.LeakyReLU(alpha=0.2)(conv5)\n",
        "    \n",
        "    up6 = upsample_and_concat(conv5, conv4, 256, 512)\n",
        "    #conv6 = slim.conv2d(up6, 256, [3, 3], rate=1, activation_fn=lrelu, scope='g_conv6_1')\n",
        "    conv6=keras.layers.Conv2D(filters=256,kernel_size=(3,3),strides=(1,1))(up6)\n",
        "    conv6=keras.layers.LeakyReLU(alpha=0.2)(conv6)\n",
        "    #conv6 = slim.conv2d(conv6, 256, [3, 3], rate=1, activation_fn=lrelu, scope='g_conv6_2')\n",
        "    conv6=keras.layers.Conv2D(filters=256,kernel_size=(3,3),strides=(1,1))(conv6)\n",
        "    conv6=keras.layers.LeakyReLU(alpha=0.2)(conv6)\n",
        "    \n",
        "    up7 = upsample_and_concat(conv6, conv3, 128, 256)\n",
        "    #conv7 = slim.conv2d(up7, 128, [3, 3], rate=1, activation_fn=lrelu, scope='g_conv7_1')\n",
        "    conv7=keras.layers.Conv2D(filters=128,kernel_size=(3,3),strides=(1,1))(up7)\n",
        "    conv7=keras.layers.LeakyReLU(alpha=0.2)(conv7)\n",
        "    #conv7 = slim.conv2d(conv7, 128, [3, 3], rate=1, activation_fn=lrelu, scope='g_conv7_2')\n",
        "    conv7=keras.layers.Conv2D(filters=128,kernel_size=(3,3),strides=(1,1))(conv7)\n",
        "    conv7=keras.layers.LeakyReLU(alpha=0.2)(conv7)\n",
        "    \n",
        "    up8 = upsample_and_concat(conv7, conv2, 64, 128)\n",
        "    #conv8 = slim.conv2d(up8, 64, [3, 3], rate=1, activation_fn=lrelu, scope='g_conv8_1')\n",
        "    conv8=keras.layers.Conv2D(filters=64,kernel_size=(3,3),strides=(1,1))(up8)\n",
        "    conv8=keras.layers.LeakyReLU(alpha=0.2)(conv8)\n",
        "    #conv8 = slim.conv2d(conv8, 64, [3, 3], rate=1, activation_fn=lrelu, scope='g_conv8_2')\n",
        "    conv8=keras.layers.Conv2D(filters=64,kernel_size=(3,3),strides=(1,1))(conv8)\n",
        "    conv8=keras.layers.LeakyReLU(alpha=0.2)(conv8)\n",
        "    \n",
        "    up9 = upsample_and_concat(conv8, conv1, 32, 64)\n",
        "    #conv9 = slim.conv2d(up9, 32, [3, 3], rate=1, activation_fn=lrelu, scope='g_conv9_1')\n",
        "    conv9=keras.layers.Conv2D(filters=32,kernel_size=(3,3),strides=(1,1))(up9)\n",
        "    conv9=keras.layers.LeakyReLU(alpha=0.2)(conv9)\n",
        "    #conv9 = slim.conv2d(conv9, 32, [3, 3], rate=1, activation_fn=lrelu, scope='g_conv9_2')\n",
        "    conv9=keras.layers.Conv2D(filters=32,kernel_size=(3,3),strides=(1,1))(conv9)\n",
        "    conv9=keras.layers.LeakyReLU(alpha=0.2)(conv9)\n",
        "    \n",
        "    #conv10 = slim.conv2d(conv9, 12, [1, 1], rate=1, activation_fn=None, scope='g_conv10')\n",
        "    conv9=keras.layers.Conv2D(filters=12,kernel_size=(1,1),strides=(1,1))(conv9)\n",
        "    #no activation function for this last layer\n",
        "    \n",
        "    out = tf.depth_to_space(conv10, 2)\n",
        "    return out"
      ],
      "execution_count": 0,
      "outputs": []
    }
  ]
}