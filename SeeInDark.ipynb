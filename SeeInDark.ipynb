{
  "nbformat": 4,
  "nbformat_minor": 0,
  "metadata": {
    "colab": {
      "name": "SeeInDark.ipynb",
      "version": "0.3.2",
      "provenance": [],
      "include_colab_link": true
    },
    "kernelspec": {
      "name": "python3",
      "display_name": "Python 3"
    },
    "accelerator": "GPU"
  },
  "cells": [
    {
      "cell_type": "markdown",
      "metadata": {
        "id": "view-in-github",
        "colab_type": "text"
      },
      "source": [
        "<a href=\"https://colab.research.google.com/github/KashyapCKotak/AI-ML-experiments/blob/master/SeeInDark.ipynb\" target=\"_parent\"><img src=\"https://colab.research.google.com/assets/colab-badge.svg\" alt=\"Open In Colab\"/></a>"
      ]
    },
    {
      "cell_type": "code",
      "metadata": {
        "id": "zuMNVBqt0u-H",
        "colab_type": "code",
        "outputId": "12730672-115e-400b-d9a9-3ee4d85651e7",
        "colab": {
          "base_uri": "https://localhost:8080/",
          "height": 34
        }
      },
      "source": [
        "import requests\n",
        "import os\n",
        "\n",
        "def download_file_from_google_drive(id, destination):\n",
        "    URL = \"https://docs.google.com/uc?export=download\"\n",
        "\n",
        "    session = requests.Session()\n",
        "\n",
        "    response = session.get(URL, params = { 'id' : id }, stream = True)\n",
        "    token = get_confirm_token(response)\n",
        "\n",
        "    if token:\n",
        "        params = { 'id' : id, 'confirm' : token }\n",
        "        response = session.get(URL, params = params, stream = True)\n",
        "\n",
        "    save_response_content(response, destination)    \n",
        "\n",
        "def get_confirm_token(response):\n",
        "    for key, value in response.cookies.items():\n",
        "        if key.startswith('download_warning'):\n",
        "            return value\n",
        "\n",
        "    return None\n",
        "\n",
        "def save_response_content(response, destination):\n",
        "    CHUNK_SIZE = 32768\n",
        "\n",
        "    with open(destination, \"wb\") as f:\n",
        "        for chunk in response.iter_content(CHUNK_SIZE):\n",
        "            if chunk: # filter out keep-alive new chunks\n",
        "                f.write(chunk)\n",
        "\n",
        "\n",
        "\n",
        "print('Dowloading Sony subset... (25GB)')\n",
        "download_file_from_google_drive('10kpAcvldtcb9G2ze5hTcF1odzu4V_Zvh', './Sony.zip')\n",
        "\n",
        "#print('Dowloading Fuji subset... (52GB)')\n",
        "#download_file_from_google_drive('12hvKCjwuilKTZPe9EZ7ZTb-azOmUA3HT', 'dataset/Fuji.zip')\n",
        "\n",
        "os.system('unzip ./Sony.zip -d dataset')\n",
        "#os.system('unzip dataset/Fuji.zip -d dataset')\n"
      ],
      "execution_count": 0,
      "outputs": [
        {
          "output_type": "stream",
          "text": [
            "Dowloading Sony subset... (25GB)\n"
          ],
          "name": "stdout"
        }
      ]
    },
    {
      "cell_type": "code",
      "metadata": {
        "id": "FsP1lrRN-HPz",
        "colab_type": "code",
        "colab": {}
      },
      "source": [
        "shutil.rmtree('dataset', ignore_errors=True, onerror=None)"
      ],
      "execution_count": 0,
      "outputs": []
    },
    {
      "cell_type": "code",
      "metadata": {
        "id": "P-_85I6g3eA5",
        "colab_type": "code",
        "outputId": "a45e6ed1-ec00-4408-eb2f-fd76141d66a4",
        "colab": {
          "base_uri": "https://localhost:8080/",
          "height": 34
        }
      },
      "source": [
        "os.system('unzip ./Sony.zip -d dataset')\n",
        "#os.system('unzip dataset/Fuji.zip -d dataset')"
      ],
      "execution_count": 0,
      "outputs": [
        {
          "output_type": "execute_result",
          "data": {
            "text/plain": [
              "0"
            ]
          },
          "metadata": {
            "tags": []
          },
          "execution_count": 31
        }
      ]
    },
    {
      "cell_type": "markdown",
      "metadata": {
        "id": "Z9yF04nOlUCP",
        "colab_type": "text"
      },
      "source": [
        "Main Train Code:"
      ]
    },
    {
      "cell_type": "code",
      "metadata": {
        "id": "m_zLVCtYlfSH",
        "colab_type": "code",
        "outputId": "56b4189b-f36a-4ad6-abf9-ce2ff7a0fc49",
        "colab": {
          "base_uri": "https://localhost:8080/",
          "height": 138
        }
      },
      "source": [
        "!pip install rawpy"
      ],
      "execution_count": 0,
      "outputs": [
        {
          "output_type": "stream",
          "text": [
            "Collecting rawpy\n",
            "\u001b[?25l  Downloading https://files.pythonhosted.org/packages/da/04/997062d83766f5fbfa4dc0d20180c5085b55a74e69559e9cb6d4f1e9550e/rawpy-0.13.1-cp36-cp36m-manylinux1_x86_64.whl (682kB)\n",
            "\r\u001b[K     |▌                               | 10kB 12.2MB/s eta 0:00:01\r\u001b[K     |█                               | 20kB 1.8MB/s eta 0:00:01\r\u001b[K     |█▍                              | 30kB 2.7MB/s eta 0:00:01\r\u001b[K     |██                              | 40kB 1.7MB/s eta 0:00:01\r\u001b[K     |██▍                             | 51kB 2.1MB/s eta 0:00:01\r\u001b[K     |██▉                             | 61kB 2.5MB/s eta 0:00:01\r\u001b[K     |███▍                            | 71kB 2.9MB/s eta 0:00:01\r\u001b[K     |███▉                            | 81kB 3.3MB/s eta 0:00:01\r\u001b[K     |████▎                           | 92kB 3.7MB/s eta 0:00:01\r\u001b[K     |████▉                           | 102kB 2.8MB/s eta 0:00:01\r\u001b[K     |█████▎                          | 112kB 2.8MB/s eta 0:00:01\r\u001b[K     |█████▊                          | 122kB 2.8MB/s eta 0:00:01\r\u001b[K     |██████▎                         | 133kB 2.8MB/s eta 0:00:01\r\u001b[K     |██████▊                         | 143kB 2.8MB/s eta 0:00:01\r\u001b[K     |███████▏                        | 153kB 2.8MB/s eta 0:00:01\r\u001b[K     |███████▊                        | 163kB 2.8MB/s eta 0:00:01\r\u001b[K     |████████▏                       | 174kB 2.8MB/s eta 0:00:01\r\u001b[K     |████████▋                       | 184kB 2.8MB/s eta 0:00:01\r\u001b[K     |█████████▏                      | 194kB 2.8MB/s eta 0:00:01\r\u001b[K     |█████████▋                      | 204kB 2.8MB/s eta 0:00:01\r\u001b[K     |██████████                      | 215kB 2.8MB/s eta 0:00:01\r\u001b[K     |██████████▋                     | 225kB 2.8MB/s eta 0:00:01\r\u001b[K     |███████████                     | 235kB 2.8MB/s eta 0:00:01\r\u001b[K     |███████████▌                    | 245kB 2.8MB/s eta 0:00:01\r\u001b[K     |████████████                    | 256kB 2.8MB/s eta 0:00:01\r\u001b[K     |████████████▌                   | 266kB 2.8MB/s eta 0:00:01\r\u001b[K     |█████████████                   | 276kB 2.8MB/s eta 0:00:01\r\u001b[K     |█████████████▍                  | 286kB 2.8MB/s eta 0:00:01\r\u001b[K     |██████████████                  | 296kB 2.8MB/s eta 0:00:01\r\u001b[K     |██████████████▍                 | 307kB 2.8MB/s eta 0:00:01\r\u001b[K     |██████████████▉                 | 317kB 2.8MB/s eta 0:00:01\r\u001b[K     |███████████████▍                | 327kB 2.8MB/s eta 0:00:01\r\u001b[K     |███████████████▉                | 337kB 2.8MB/s eta 0:00:01\r\u001b[K     |████████████████▎               | 348kB 2.8MB/s eta 0:00:01\r\u001b[K     |████████████████▉               | 358kB 2.8MB/s eta 0:00:01\r\u001b[K     |█████████████████▎              | 368kB 2.8MB/s eta 0:00:01\r\u001b[K     |█████████████████▊              | 378kB 2.8MB/s eta 0:00:01\r\u001b[K     |██████████████████▎             | 389kB 2.8MB/s eta 0:00:01\r\u001b[K     |██████████████████▊             | 399kB 2.8MB/s eta 0:00:01\r\u001b[K     |███████████████████▏            | 409kB 2.8MB/s eta 0:00:01\r\u001b[K     |███████████████████▊            | 419kB 2.8MB/s eta 0:00:01\r\u001b[K     |████████████████████▏           | 430kB 2.8MB/s eta 0:00:01\r\u001b[K     |████████████████████▋           | 440kB 2.8MB/s eta 0:00:01\r\u001b[K     |█████████████████████▏          | 450kB 2.8MB/s eta 0:00:01\r\u001b[K     |█████████████████████▋          | 460kB 2.8MB/s eta 0:00:01\r\u001b[K     |██████████████████████          | 471kB 2.8MB/s eta 0:00:01\r\u001b[K     |██████████████████████▋         | 481kB 2.8MB/s eta 0:00:01\r\u001b[K     |███████████████████████         | 491kB 2.8MB/s eta 0:00:01\r\u001b[K     |███████████████████████▌        | 501kB 2.8MB/s eta 0:00:01\r\u001b[K     |████████████████████████        | 512kB 2.8MB/s eta 0:00:01\r\u001b[K     |████████████████████████▌       | 522kB 2.8MB/s eta 0:00:01\r\u001b[K     |█████████████████████████       | 532kB 2.8MB/s eta 0:00:01\r\u001b[K     |█████████████████████████▍      | 542kB 2.8MB/s eta 0:00:01\r\u001b[K     |██████████████████████████      | 552kB 2.8MB/s eta 0:00:01\r\u001b[K     |██████████████████████████▍     | 563kB 2.8MB/s eta 0:00:01\r\u001b[K     |██████████████████████████▉     | 573kB 2.8MB/s eta 0:00:01\r\u001b[K     |███████████████████████████▍    | 583kB 2.8MB/s eta 0:00:01\r\u001b[K     |███████████████████████████▉    | 593kB 2.8MB/s eta 0:00:01\r\u001b[K     |████████████████████████████▎   | 604kB 2.8MB/s eta 0:00:01\r\u001b[K     |████████████████████████████▉   | 614kB 2.8MB/s eta 0:00:01\r\u001b[K     |█████████████████████████████▎  | 624kB 2.8MB/s eta 0:00:01\r\u001b[K     |█████████████████████████████▊  | 634kB 2.8MB/s eta 0:00:01\r\u001b[K     |██████████████████████████████▎ | 645kB 2.8MB/s eta 0:00:01\r\u001b[K     |██████████████████████████████▊ | 655kB 2.8MB/s eta 0:00:01\r\u001b[K     |███████████████████████████████▏| 665kB 2.8MB/s eta 0:00:01\r\u001b[K     |███████████████████████████████▊| 675kB 2.8MB/s eta 0:00:01\r\u001b[K     |████████████████████████████████| 686kB 2.8MB/s \n",
            "\u001b[?25hRequirement already satisfied: numpy in /usr/local/lib/python3.6/dist-packages (from rawpy) (1.16.4)\n",
            "Installing collected packages: rawpy\n",
            "Successfully installed rawpy-0.13.1\n"
          ],
          "name": "stdout"
        }
      ]
    },
    {
      "cell_type": "code",
      "metadata": {
        "id": "IogQOu0slZNT",
        "colab_type": "code",
        "colab": {}
      },
      "source": [
        "from __future__ import division\n",
        "import os, time, scipy.io\n",
        "import tensorflow as tf\n",
        "import tensorflow.contrib.slim as slim\n",
        "import numpy as np\n",
        "import rawpy\n",
        "import glob"
      ],
      "execution_count": 0,
      "outputs": []
    },
    {
      "cell_type": "code",
      "metadata": {
        "id": "-gTj24DXlazJ",
        "colab_type": "code",
        "colab": {}
      },
      "source": [
        "input_dir = './dataset/Sony/short/'\n",
        "gt_dir = './dataset/Sony/long/'\n",
        "os.mkdir('result_Sony')\n",
        "checkpoint_dir = './result_Sony/'\n",
        "result_dir = './result_Sony/'"
      ],
      "execution_count": 0,
      "outputs": []
    },
    {
      "cell_type": "code",
      "metadata": {
        "id": "k1bgs9-jrfgp",
        "colab_type": "code",
        "colab": {}
      },
      "source": [
        ""
      ],
      "execution_count": 0,
      "outputs": []
    }
  ]
}