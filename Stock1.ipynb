{
  "nbformat": 4,
  "nbformat_minor": 0,
  "metadata": {
    "colab": {
      "name": "Stock1.ipynb",
      "version": "0.3.2",
      "provenance": [],
      "include_colab_link": true
    },
    "language_info": {
      "codemirror_mode": {
        "name": "ipython",
        "version": 2
      },
      "file_extension": ".py",
      "mimetype": "text/x-python",
      "name": "python",
      "nbconvert_exporter": "python",
      "pygments_lexer": "ipython2",
      "version": "2.7.13"
    },
    "kernelspec": {
      "display_name": "Python [conda root]",
      "language": "python",
      "name": "conda-root-py"
    }
  },
  "cells": [
    {
      "cell_type": "markdown",
      "metadata": {
        "id": "view-in-github",
        "colab_type": "text"
      },
      "source": [
        "<a href=\"https://colab.research.google.com/github/KashyapCKotak/AI-ML-experiments/blob/master/Stock1.ipynb\" target=\"_parent\"><img src=\"https://colab.research.google.com/assets/colab-badge.svg\" alt=\"Open In Colab\"/></a>"
      ]
    },
    {
      "cell_type": "code",
      "metadata": {
        "id": "DC3VaBwpUEcb",
        "colab_type": "code",
        "colab": {}
      },
      "source": [
        "#import all libraries\n",
        "import numpy as np\n",
        "import pandas as pd\n",
        "import math\n",
        "import sklearn\n",
        "import sklearn.preprocessing\n",
        "import datetime\n",
        "import os\n",
        "import matplotlib.pyplot as plt\n",
        "import tensorflow as tf"
      ],
      "execution_count": 0,
      "outputs": []
    },
    {
      "cell_type": "code",
      "metadata": {
        "id": "uJG25yTgUJMd",
        "colab_type": "code",
        "colab": {}
      },
      "source": [
        "dataset = pd.read_csv('/content/drive/My Drive/Data/2015-02-02-To-2019-5-19-5-Min.csv', index_col = 0)\n",
        "df_stock = dataset.copy()\n",
        "df_stock = df_stock.dropna()\n",
        "df_stock = df_stock[['Open', 'High', 'Low', 'Close']]"
      ],
      "execution_count": 0,
      "outputs": []
    },
    {
      "cell_type": "code",
      "metadata": {
        "id": "wfVJSvE9UcmP",
        "colab_type": "code",
        "colab": {}
      },
      "source": [
        "df_stock"
      ],
      "execution_count": 0,
      "outputs": []
    },
    {
      "cell_type": "code",
      "metadata": {
        "id": "_vQpaa7tUdhI",
        "colab_type": "code",
        "colab": {}
      },
      "source": [
        "def normalize_data(df):\n",
        "    min_max_scaler = sklearn.preprocessing.MinMaxScaler()\n",
        "    df['Open'] = min_max_scaler.fit_transform(df.Open.values.reshape(-1,1))\n",
        "    df['High'] = min_max_scaler.fit_transform(df.High.values.reshape(-1,1))\n",
        "    df['Low'] = min_max_scaler.fit_transform(df.Low.values.reshape(-1,1))\n",
        "    df['Close'] = min_max_scaler.fit_transform(df['Close'].values.reshape(-1,1))\n",
        "    return df\n",
        "df_stock_norm = df_stock.copy()\n",
        "df_stock_norm = normalize_data(df_stock_norm)"
      ],
      "execution_count": 0,
      "outputs": []
    },
    {
      "cell_type": "code",
      "metadata": {
        "id": "bnzKRo8SrVg0",
        "colab_type": "code",
        "colab": {
          "base_uri": "https://localhost:8080/",
          "height": 384
        },
        "outputId": "b740f09c-bec0-40ae-ae1e-d0b305013745"
      },
      "source": [
        "print(df_stock_norm[0:3])\n",
        "df_stock_norm[:100].plot()\n",
        "#plt.plot(df_stock_norm[:1000])\n",
        "#plt.show()"
      ],
      "execution_count": 53,
      "outputs": [
        {
          "output_type": "stream",
          "text": [
            "                              Open      High       Low     Close\n",
            "Time                                                            \n",
            "2015-02-04T13:20:00+0530  0.180503  0.178966  0.181630  0.180622\n",
            "2015-02-04T13:25:00+0530  0.180693  0.178966  0.182492  0.179551\n",
            "2015-02-04T13:30:00+0530  0.179621  0.178517  0.182147  0.179239\n"
          ],
          "name": "stdout"
        },
        {
          "output_type": "execute_result",
          "data": {
            "text/plain": [
              "<matplotlib.axes._subplots.AxesSubplot at 0x7f6c9f0aefd0>"
            ]
          },
          "metadata": {
            "tags": []
          },
          "execution_count": 53
        },
        {
          "output_type": "display_data",
          "data": {
            "image/png": "[encoded data removed]",
            "text/plain": [
              "<Figure size 432x288 with 1 Axes>"
            ]
          },
          "metadata": {
            "tags": []
          }
        }
      ]
    },
    {
      "cell_type": "code",
      "metadata": {
        "id": "Boo-SzEuUt2l",
        "colab_type": "code",
        "colab": {}
      },
      "source": [
        "valid_set_size_percentage = 10 \n",
        "test_set_size_percentage = 10 \n",
        "seq_len = 20 # taken sequence length as 20: 19 for training and 1 for target"
      ],
      "execution_count": 0,
      "outputs": []
    },
    {
      "cell_type": "code",
      "metadata": {
        "id": "GJV3hXzXUw0k",
        "colab_type": "code",
        "colab": {}
      },
      "source": [
        "def load_data(stock, seq_len):\n",
        "    data_raw = stock.as_matrix() \n",
        "    print(data_raw)\n",
        "    data = [] \n",
        "    for index in range(len(data_raw) - seq_len): \n",
        "        data.append(data_raw[index: index + seq_len])\n",
        "    data = np.array(data);\n",
        "    print(\"data shape:\",data.shape)\n",
        "    valid_set_size = int(np.round(valid_set_size_percentage/100*data.shape[0]));  \n",
        "    print(\"valid_set_size shape:\",valid_set_size)\n",
        "    test_set_size = int(np.round(test_set_size_percentage/100*data.shape[0]));\n",
        "    print(\"test_set_size shape:\",test_set_size)\n",
        "    train_set_size = data.shape[0] - (valid_set_size + test_set_size);\n",
        "    print(\"train_set_size shape:\",train_set_size)\n",
        "    x_train = data[:train_set_size,:-1,:]\n",
        "    y_train = data[:train_set_size,-1,:]\n",
        "    x_valid = data[train_set_size:train_set_size+valid_set_size,:-1,:]\n",
        "    y_valid = data[train_set_size:train_set_size+valid_set_size,-1,:]\n",
        "    x_test = data[train_set_size+valid_set_size:,:-1,:]\n",
        "    y_test = data[train_set_size+valid_set_size:,-1,:]\n",
        "    return [x_train, y_train, x_valid, y_valid, x_test, y_test]"
      ],
      "execution_count": 0,
      "outputs": []
    },
    {
      "cell_type": "code",
      "metadata": {
        "id": "rdEoGSDUU3x1",
        "colab_type": "code",
        "colab": {
          "base_uri": "https://localhost:8080/",
          "height": 356
        },
        "outputId": "5871bd4d-6ea0-435b-b128-67dc95de5c9f"
      },
      "source": [
        "x_train, y_train, x_valid, y_valid, x_test, y_test = load_data(df_stock_norm, seq_len)\n",
        "print('x_train.shape = ',x_train.shape)\n",
        "print('y_train.shape = ', y_train.shape)\n",
        "print('x_valid.shape = ',x_valid.shape)\n",
        "print('y_valid.shape = ', y_valid.shape)\n",
        "print('x_test.shape = ', x_test.shape)\n",
        "print('y_test.shape = ',y_test.shape)"
      ],
      "execution_count": 56,
      "outputs": [
        {
          "output_type": "stream",
          "text": [
            "[[0.18050298 0.17896628 0.18163026 0.1806223 ]\n",
            " [0.18069311 0.17896628 0.18249156 0.17955056]\n",
            " [0.17962147 0.17851714 0.18214704 0.17923941]\n",
            " ...\n",
            " [0.50116671 0.4999309  0.50113691 0.50008643]\n",
            " [0.50021606 0.50407684 0.50251499 0.50630942]\n",
            " [0.50643851 0.50502695 0.50647695 0.50475367]]\n",
            "data shape: (78985, 20, 4)\n",
            "valid_set_size shape: 7898\n",
            "test_set_size shape: 7898\n",
            "train_set_size shape: 63189\n",
            "x_train.shape =  (63189, 19, 4)\n",
            "y_train.shape =  (63189, 4)\n",
            "x_valid.shape =  (7898, 19, 4)\n",
            "y_valid.shape =  (7898, 4)\n",
            "x_test.shape =  (7898, 19, 4)\n",
            "y_test.shape =  (7898, 4)\n"
          ],
          "name": "stdout"
        },
        {
          "output_type": "stream",
          "text": [
            "/usr/local/lib/python3.6/dist-packages/ipykernel_launcher.py:2: FutureWarning: Method .as_matrix will be removed in a future version. Use .values instead.\n",
            "  \n"
          ],
          "name": "stderr"
        }
      ]
    },
    {
      "cell_type": "code",
      "metadata": {
        "id": "4KJSlCvpU72S",
        "colab_type": "code",
        "colab": {
          "base_uri": "https://localhost:8080/",
          "height": 1000
        },
        "outputId": "8a42ff4c-b603-4b62-e403-d5f8926e4d37"
      },
      "source": [
        "print(x_train[0:4])\n",
        "print(y_train[0:4])"
      ],
      "execution_count": 57,
      "outputs": [
        {
          "output_type": "stream",
          "text": [
            "[[[0.18050298 0.17896628 0.18163026 0.1806223 ]\n",
            "  [0.18069311 0.17896628 0.18249156 0.17955056]\n",
            "  [0.17962147 0.17851714 0.18214704 0.17923941]\n",
            "  [0.17931034 0.17787797 0.18194033 0.17878997]\n",
            "  [0.17886095 0.1776534  0.18128574 0.17891098]\n",
            "  [0.17887823 0.1775843  0.18130297 0.17792567]\n",
            "  [0.1782387  0.17801617 0.18082064 0.17963699]\n",
            "  [0.17910293 0.17723881 0.18140633 0.17818496]\n",
            "  [0.17825598 0.17718698 0.18121684 0.17891098]\n",
            "  [0.17867081 0.17680694 0.18011438 0.17804667]\n",
            "  [0.17811771 0.17625415 0.18035554 0.17827139]\n",
            "  [0.17816956 0.17599502 0.18009715 0.17804667]\n",
            "  [0.17811771 0.17640962 0.17839179 0.1765255 ]\n",
            "  [0.17659666 0.17525221 0.17861572 0.17638721]\n",
            "  [0.17642382 0.17507946 0.17930476 0.17707865]\n",
            "  [0.17714977 0.17637507 0.18063116 0.17716508]\n",
            "  [0.17702878 0.17635779 0.18018328 0.17773552]\n",
            "  [0.17780659 0.1759432  0.18030387 0.17804667]\n",
            "  [0.17811771 0.17703151 0.18107903 0.17859983]]\n",
            "\n",
            " [[0.18069311 0.17896628 0.18249156 0.17955056]\n",
            "  [0.17962147 0.17851714 0.18214704 0.17923941]\n",
            "  [0.17931034 0.17787797 0.18194033 0.17878997]\n",
            "  [0.17886095 0.1776534  0.18128574 0.17891098]\n",
            "  [0.17887823 0.1775843  0.18130297 0.17792567]\n",
            "  [0.1782387  0.17801617 0.18082064 0.17963699]\n",
            "  [0.17910293 0.17723881 0.18140633 0.17818496]\n",
            "  [0.17825598 0.17718698 0.18121684 0.17891098]\n",
            "  [0.17867081 0.17680694 0.18011438 0.17804667]\n",
            "  [0.17811771 0.17625415 0.18035554 0.17827139]\n",
            "  [0.17816956 0.17599502 0.18009715 0.17804667]\n",
            "  [0.17811771 0.17640962 0.17839179 0.1765255 ]\n",
            "  [0.17659666 0.17525221 0.17861572 0.17638721]\n",
            "  [0.17642382 0.17507946 0.17930476 0.17707865]\n",
            "  [0.17714977 0.17637507 0.18063116 0.17716508]\n",
            "  [0.17702878 0.17635779 0.18018328 0.17773552]\n",
            "  [0.17780659 0.1759432  0.18030387 0.17804667]\n",
            "  [0.17811771 0.17703151 0.18107903 0.17859983]\n",
            "  [0.17861896 0.17680694 0.18088955 0.17785653]]\n",
            "\n",
            " [[0.17962147 0.17851714 0.18214704 0.17923941]\n",
            "  [0.17931034 0.17787797 0.18194033 0.17878997]\n",
            "  [0.17886095 0.1776534  0.18128574 0.17891098]\n",
            "  [0.17887823 0.1775843  0.18130297 0.17792567]\n",
            "  [0.1782387  0.17801617 0.18082064 0.17963699]\n",
            "  [0.17910293 0.17723881 0.18140633 0.17818496]\n",
            "  [0.17825598 0.17718698 0.18121684 0.17891098]\n",
            "  [0.17867081 0.17680694 0.18011438 0.17804667]\n",
            "  [0.17811771 0.17625415 0.18035554 0.17827139]\n",
            "  [0.17816956 0.17599502 0.18009715 0.17804667]\n",
            "  [0.17811771 0.17640962 0.17839179 0.1765255 ]\n",
            "  [0.17659666 0.17525221 0.17861572 0.17638721]\n",
            "  [0.17642382 0.17507946 0.17930476 0.17707865]\n",
            "  [0.17714977 0.17637507 0.18063116 0.17716508]\n",
            "  [0.17702878 0.17635779 0.18018328 0.17773552]\n",
            "  [0.17780659 0.1759432  0.18030387 0.17804667]\n",
            "  [0.17811771 0.17703151 0.18107903 0.17859983]\n",
            "  [0.17861896 0.17680694 0.18088955 0.17785653]\n",
            "  [0.17811771 0.17715243 0.18116516 0.17868626]]\n",
            "\n",
            " [[0.17931034 0.17787797 0.18194033 0.17878997]\n",
            "  [0.17886095 0.1776534  0.18128574 0.17891098]\n",
            "  [0.17887823 0.1775843  0.18130297 0.17792567]\n",
            "  [0.1782387  0.17801617 0.18082064 0.17963699]\n",
            "  [0.17910293 0.17723881 0.18140633 0.17818496]\n",
            "  [0.17825598 0.17718698 0.18121684 0.17891098]\n",
            "  [0.17867081 0.17680694 0.18011438 0.17804667]\n",
            "  [0.17811771 0.17625415 0.18035554 0.17827139]\n",
            "  [0.17816956 0.17599502 0.18009715 0.17804667]\n",
            "  [0.17811771 0.17640962 0.17839179 0.1765255 ]\n",
            "  [0.17659666 0.17525221 0.17861572 0.17638721]\n",
            "  [0.17642382 0.17507946 0.17930476 0.17707865]\n",
            "  [0.17714977 0.17637507 0.18063116 0.17716508]\n",
            "  [0.17702878 0.17635779 0.18018328 0.17773552]\n",
            "  [0.17780659 0.1759432  0.18030387 0.17804667]\n",
            "  [0.17811771 0.17703151 0.18107903 0.17859983]\n",
            "  [0.17861896 0.17680694 0.18088955 0.17785653]\n",
            "  [0.17811771 0.17715243 0.18116516 0.17868626]\n",
            "  [0.17875724 0.17697968 0.18087232 0.17894555]]]\n",
            "[[0.17861896 0.17680694 0.18088955 0.17785653]\n",
            " [0.17811771 0.17715243 0.18116516 0.17868626]\n",
            " [0.17875724 0.17697968 0.18087232 0.17894555]\n",
            " [0.17901651 0.17715243 0.18095845 0.17839239]]\n"
          ],
          "name": "stdout"
        }
      ]
    },
    {
      "cell_type": "code",
      "metadata": {
        "id": "iFvWvkOBYOvi",
        "colab_type": "code",
        "colab": {}
      },
      "source": [
        "# parameters & Placeholders \n",
        "n_steps = seq_len-1 \n",
        "n_inputs = 4 \n",
        "n_neurons = 200 \n",
        "n_outputs = 4\n",
        "n_layers = 2\n",
        "learning_rate = 0.001\n",
        "batch_size = 50\n",
        "n_epochs = 100 \n",
        "train_set_size = x_train.shape[0]\n",
        "test_set_size = x_test.shape[0]\n",
        "tf.reset_default_graph()\n",
        "X = tf.placeholder(tf.float32, [None, n_steps, n_inputs])\n",
        "y = tf.placeholder(tf.float32, [None, n_outputs])"
      ],
      "execution_count": 0,
      "outputs": []
    },
    {
      "cell_type": "code",
      "metadata": {
        "id": "e583aHr68_zO",
        "colab_type": "code",
        "colab": {}
      },
      "source": [
        "perm=[0,1]\n",
        "x_train[perm]"
      ],
      "execution_count": 0,
      "outputs": []
    },
    {
      "cell_type": "code",
      "metadata": {
        "id": "DO3DIJ2C8D0_",
        "colab_type": "code",
        "colab": {}
      },
      "source": [
        "# function to get the next batch\n",
        "index_in_epoch = 0;\n",
        "perm_array  = np.arange(x_train.shape[0])\n",
        "np.random.shuffle(perm_array)\n",
        "\n",
        "def get_next_batch(batch_size):\n",
        "    global index_in_epoch, x_train, perm_array   \n",
        "    start = index_in_epoch\n",
        "    index_in_epoch += batch_size \n",
        "    if index_in_epoch > x_train.shape[0]:\n",
        "        np.random.shuffle(perm_array) # shuffle permutation array\n",
        "        index_in_epoch = 0; #repeat the above steps\n",
        "        start = index_in_epoch\n",
        "        index_in_epoch += batch_size    \n",
        "    end = index_in_epoch\n",
        "    return x_train[perm_array[start:end]], y_train[perm_array[start:end]]"
      ],
      "execution_count": 0,
      "outputs": []
    },
    {
      "cell_type": "code",
      "metadata": {
        "id": "zyriIesFOeNx",
        "colab_type": "code",
        "colab": {
          "base_uri": "https://localhost:8080/",
          "height": 34
        },
        "outputId": "846a8a3e-7d9d-466a-9227-9156fab980bd"
      },
      "source": [
        "print(tf.__version__)"
      ],
      "execution_count": 67,
      "outputs": [
        {
          "output_type": "stream",
          "text": [
            "1.14.0\n"
          ],
          "name": "stdout"
        }
      ]
    },
    {
      "cell_type": "code",
      "metadata": {
        "id": "JI4xgcMUOEFF",
        "colab_type": "code",
        "colab": {}
      },
      "source": [
        "#RNN \n",
        "layers = [tf.contrib.rnn.BasicRNNCell(num_units=n_neurons, activation=tf.nn.elu)\n",
        "         for layer in range(n_layers)]\n",
        "# LSTM  \n",
        "#layers = [tf.contrib.rnn.BasicLSTMCell(num_units=n_neurons, activation=tf.nn.elu)\n",
        "#        for layer in range(n_layers)]\n",
        "\n",
        "#LSTM with peephole connections\n",
        "#layers = [tf.contrib.rnn.LSTMCell(num_units=n_neurons, \n",
        "#                                  activation=tf.nn.leaky_relu, use_peepholes = True)\n",
        "#          for layer in range(n_layers)]\n",
        "\n",
        "#GRU \n",
        "#layers = [tf.contrib.rnn.GRUCell(num_units=n_neurons, activation=tf.nn.leaky_relu)\n",
        "#          for layer in range(n_layers)] \n",
        "                                                                  \n",
        "multi_layer_cell = tf.contrib.rnn.MultiRNNCell(layers)\n",
        "rnn_outputs, states = tf.nn.dynamic_rnn(multi_layer_cell, X, dtype=tf.float32)\n",
        "stacked_rnn_outputs = tf.reshape(rnn_outputs, [-1, n_neurons]) \n",
        "stacked_outputs = tf.layers.dense(stacked_rnn_outputs, n_outputs)\n",
        "outputs = tf.reshape(stacked_outputs, [-1, n_steps, n_outputs])\n",
        "outputs = outputs[:,n_steps-1,:] # keep only last output of sequence\n"
      ],
      "execution_count": 0,
      "outputs": []
    }
  ]
}