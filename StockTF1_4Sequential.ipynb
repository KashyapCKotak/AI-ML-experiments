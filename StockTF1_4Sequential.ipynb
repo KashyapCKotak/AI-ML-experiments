{
  "nbformat": 4,
  "nbformat_minor": 0,
  "metadata": {
    "colab": {
      "name": "StockTF1_4Sequential.ipynb",
      "version": "0.3.2",
      "provenance": [],
      "include_colab_link": true
    },
    "kernelspec": {
      "name": "python3",
      "display_name": "Python 3"
    },
    "accelerator": "GPU"
  },
  "cells": [
    {
      "cell_type": "markdown",
      "metadata": {
        "id": "view-in-github",
        "colab_type": "text"
      },
      "source": [
        "<a href=\"https://colab.research.google.com/github/KashyapCKotak/AI-ML-experiments/blob/master/StockTF1_4Sequential.ipynb\" target=\"_parent\"><img src=\"https://colab.research.google.com/assets/colab-badge.svg\" alt=\"Open In Colab\"/></a>"
      ]
    },
    {
      "cell_type": "code",
      "metadata": {
        "id": "LKhqP9S5hcLf",
        "colab_type": "code",
        "colab": {}
      },
      "source": [
        "import math\n",
        "import numpy as np\n",
        "import pandas as pd\n",
        "\n",
        "class DataLoader():\n",
        "    \"\"\"A class for loading and transforming data for the lstm model\"\"\"\n",
        "\n",
        "    def __init__(self, filename, split, cols):\n",
        "        dataframe = pd.read_csv(filename)\n",
        "        print(\"data shape:\",dataframe.shape)\n",
        "        i_split = int(len(dataframe) * split)\n",
        "        self.data_train = dataframe.get(cols).values[:i_split]\n",
        "        self.data_test  = dataframe.get(cols).values[i_split:]\n",
        "        self.len_train  = len(self.data_train)\n",
        "        self.len_test   = len(self.data_test)\n",
        "        self.len_train_windows = None\n",
        "\n",
        "    def get_test_data(self, seq_len, normalise):\n",
        "        '''\n",
        "        Create x, y test data windows\n",
        "        Warning: batch method, not generative, make sure you have enough memory to\n",
        "        load data, otherwise reduce size of the training split.\n",
        "        '''\n",
        "        data_windows = []\n",
        "        for i in range(self.len_test - seq_len):\n",
        "            data_windows.append(self.data_test[i:i+seq_len])\n",
        "\n",
        "        data_windows = np.array(data_windows).astype(float)\n",
        "        data_windows = self.normalise_windows(data_windows, single_window=False) if normalise else data_windows\n",
        "\n",
        "        x = data_windows[:, :-1]\n",
        "        y = data_windows[:, -1, [0]]\n",
        "        return x,y\n",
        "\n",
        "    def get_train_data(self, seq_len, normalise):\n",
        "        '''\n",
        "        Create x, y train data windows\n",
        "        Warning: batch method, not generative, make sure you have enough memory to\n",
        "        load data, otherwise use generate_training_window() method.\n",
        "        '''\n",
        "        data_x = []\n",
        "        data_y = []\n",
        "        for i in range(self.len_train - seq_len):\n",
        "            x, y = self._next_window(i, seq_len, normalise)\n",
        "            data_x.append(x)\n",
        "            data_y.append(y)\n",
        "        return np.array(data_x), np.array(data_y)\n",
        "\n",
        "    def generate_train_batch(self, seq_len, batch_size, normalise):\n",
        "        '''Yield a generator of training data from filename on given list of cols split for train/test'''\n",
        "        i = 0\n",
        "        while i < (self.len_train - seq_len):\n",
        "            x_batch = []\n",
        "            y_batch = []\n",
        "            for b in range(batch_size):\n",
        "                if i >= (self.len_train - seq_len):\n",
        "                    # stop-condition for a smaller final batch if data doesn't divide evenly\n",
        "                    yield np.array(x_batch), np.array(y_batch)\n",
        "                    i = 0\n",
        "                x, y = self._next_window(i, seq_len, normalise)\n",
        "                x_batch.append(x)\n",
        "                y_batch.append(y)\n",
        "                i += 1\n",
        "            yield np.array(x_batch), np.array(y_batch)\n",
        "\n",
        "    def _next_window(self, i, seq_len, normalise):\n",
        "        '''Generates the next data window from the given index location i'''\n",
        "        window = self.data_train[i:i+seq_len]\n",
        "        window = self.normalise_windows(window, single_window=True)[0] if normalise else window\n",
        "        x = window[:-1]\n",
        "        y = window[-1, [0]]\n",
        "        return x, y\n",
        "\n",
        "    def normalise_windows(self, window_data, single_window=False):\n",
        "        '''Normalise window with a base value of zero'''\n",
        "        normalised_data = []\n",
        "        window_data = [window_data] if single_window else window_data\n",
        "        for window in window_data:\n",
        "            normalised_window = []\n",
        "            for col_i in range(window.shape[1]):\n",
        "                normalised_col = [((float(p) / float(window[0, col_i])) - 1) for p in window[:, col_i]]\n",
        "                normalised_window.append(normalised_col)\n",
        "            normalised_window = np.array(normalised_window).T # reshape and transpose array back into original multidimensional format\n",
        "            normalised_data.append(normalised_window)\n",
        "        return np.array(normalised_data)"
      ],
      "execution_count": 0,
      "outputs": []
    },
    {
      "cell_type": "code",
      "metadata": {
        "id": "FiwmP6WoieLm",
        "colab_type": "code",
        "outputId": "83fd8ec1-4bd6-4ed1-f912-cf56ed6dfdec",
        "colab": {
          "base_uri": "https://localhost:8080/",
          "height": 34
        }
      },
      "source": [
        "filename=\"sinewave.csv\"\n",
        "columns=[\"sinewave\"]\n",
        "sequence_length=3\n",
        "train_test_split=0.8\n",
        "data = DataLoader(filename,train_test_split,columns)\n",
        "\n",
        "\n",
        "x, y = data.get_train_data(\n",
        "\tseq_len = sequence_length,\n",
        "\tnormalise = False\n",
        ")\n"
      ],
      "execution_count": 2,
      "outputs": [
        {
          "output_type": "stream",
          "text": [
            "data shape: (5001, 1)\n"
          ],
          "name": "stdout"
        }
      ]
    },
    {
      "cell_type": "code",
      "metadata": {
        "id": "qtNrcevo89S8",
        "colab_type": "code",
        "outputId": "ebedb760-b901-46a5-d956-c3a8862968c0",
        "colab": {
          "base_uri": "https://localhost:8080/",
          "height": 84
        }
      },
      "source": [
        "data_gen = data.generate_train_batch(\n",
        "\t\tseq_len = 3,\n",
        "\t\tbatch_size = 10,\n",
        "\t\tnormalise = False\n",
        "\t)\n",
        "print(x.shape)\n",
        "print(y.shape)\n",
        "print(next(data_gen)[0].shape)\n",
        "print(next(data_gen)[1].shape)"
      ],
      "execution_count": 3,
      "outputs": [
        {
          "output_type": "stream",
          "text": [
            "(3997, 2, 1)\n",
            "(3997, 1)\n",
            "(10, 2, 1)\n",
            "(10, 1)\n"
          ],
          "name": "stdout"
        }
      ]
    },
    {
      "cell_type": "code",
      "metadata": {
        "id": "zpKKwvhwCTJy",
        "colab_type": "code",
        "colab": {}
      },
      "source": [
        "import datetime as dt\n",
        "\n",
        "class Timer():\n",
        "\n",
        "\tdef __init__(self):\n",
        "\t\tself.start_dt = None\n",
        "\n",
        "\tdef start(self):\n",
        "\t\tself.start_dt = dt.datetime.now()\n",
        "\n",
        "\tdef stop(self):\n",
        "\t\tend_dt = dt.datetime.now()\n",
        "\t\tprint('Time taken: %s' % (end_dt - self.start_dt))"
      ],
      "execution_count": 0,
      "outputs": []
    },
    {
      "cell_type": "code",
      "metadata": {
        "id": "V3y8XjC-t_CG",
        "colab_type": "code",
        "colab": {}
      },
      "source": [
        "import os\n",
        "import math\n",
        "import numpy as np\n",
        "import datetime as dt\n",
        "from numpy import newaxis\n",
        "from keras.layers import Dense, Activation, Dropout, LSTM\n",
        "from keras.models import Sequential, load_model\n",
        "from keras.callbacks import EarlyStopping, ModelCheckpoint\n",
        "\n",
        "class Model():\n",
        "\t\"\"\"A class for an building and inferencing an lstm model\"\"\"\n",
        "\n",
        "\tdef __init__(self):\n",
        "\t\tself.model = Sequential()\n",
        "\n",
        "\tdef load_model(self, filepath):\n",
        "\t\tprint('[Model] Loading model from file %s' % filepath)\n",
        "\t\tself.model = load_model(filepath)\n",
        "\n",
        "\tdef build_model(self, configs):\n",
        "\t\ttimer = Timer()\n",
        "\t\ttimer.start()\n",
        "\n",
        "\t\tfor layer in configs['model']['layers']:\n",
        "\t\t\tneurons = layer['neurons'] if 'neurons' in layer else None\n",
        "\t\t\tdropout_rate = layer['rate'] if 'rate' in layer else None\n",
        "\t\t\tactivation = layer['activation'] if 'activation' in layer else None\n",
        "\t\t\treturn_seq = layer['return_seq'] if 'return_seq' in layer else None\n",
        "\t\t\tinput_timesteps = layer['input_timesteps'] if 'input_timesteps' in layer else None\n",
        "\t\t\tinput_dim = layer['input_dim'] if 'input_dim' in layer else None\n",
        "\n",
        "\t\t\tif layer['type'] == 'dense':\n",
        "\t\t\t\tself.model.add(Dense(neurons, activation=activation))\n",
        "\t\t\tif layer['type'] == 'lstm':\n",
        "\t\t\t\tself.model.add(LSTM(neurons, input_shape=(input_timesteps, input_dim), return_sequences=return_seq))\n",
        "\t\t\tif layer['type'] == 'dropout':\n",
        "\t\t\t\tself.model.add(Dropout(dropout_rate))\n",
        "\n",
        "\t\tself.model.compile(loss=configs['model']['loss'], optimizer=configs['model']['optimizer'],metrics=['mean_squared_error'])\n",
        "\n",
        "\t\tprint('[Model] Model Compiled')\n",
        "\t\ttimer.stop()\n",
        "\n",
        "\tdef train(self, x, y, epochs, batch_size, save_dir=\"\"):\n",
        "\t\ttimer = Timer()\n",
        "\t\ttimer.start()\n",
        "\t\tprint('X shape:', (x.shape))\n",
        "\t\tprint('[Model] Training Started')\n",
        "\t\tprint('[Model] %s epochs, %s batch size' % (epochs, batch_size))\n",
        "\t\t\n",
        "\t\tsave_fname = os.path.join(save_dir, '%s-e%s.h5' % (dt.datetime.now().strftime('%d%m%Y-%H%M%S'), str(epochs)))\n",
        "\t\tcallbacks = [\n",
        "\t\t\tEarlyStopping(monitor='val_loss', patience=2),\n",
        "\t\t\tModelCheckpoint(filepath=save_fname, monitor='val_loss', save_best_only=True)\n",
        "\t\t]\n",
        "\t\tmodelhistory=self.model.fit(\n",
        "\t\t\tx,\n",
        "\t\t\ty,\n",
        "\t\t\tepochs=epochs,\n",
        "\t\t\tbatch_size=batch_size,\n",
        "\t\t\tcallbacks=callbacks\n",
        "\t\t)\n",
        "\t\tself.model.save(save_fname)\n",
        "\t\tprint('[Model] Training Completed. Model saved as %s' % save_fname)\n",
        "\t\ttimer.stop()\n",
        "\t\treturn modelhistory\n",
        "\n",
        "\tdef train_generator(self, data_gen, epochs, batch_size, steps_per_epoch, save_dir):\n",
        "\t\ttimer = Timer()\n",
        "\t\ttimer.start()\n",
        "\t\tprint('X shape:', (x.shape))\n",
        "\t\tprint('[Model] Training Started')\n",
        "\t\tprint('[Model] %s epochs, %s batch size, %s batches per epoch' % (epochs, batch_size, steps_per_epoch))\n",
        "\t\t\n",
        "\t\tsave_fname = os.path.join(save_dir, '%s-e%s.h5' % (dt.datetime.now().strftime('%d%m%Y-%H%M%S'), str(epochs)))\n",
        "\t\tcallbacks = [\n",
        "\t\t\tModelCheckpoint(filepath=save_fname, monitor='loss', save_best_only=True)\n",
        "\t\t]\n",
        "\t\tself.model.fit_generator(\n",
        "\t\t\tdata_gen,\n",
        "\t\t\tsteps_per_epoch=steps_per_epoch,\n",
        "\t\t\tepochs=epochs,\n",
        "\t\t\tcallbacks=callbacks,\n",
        "\t\t\tworkers=1\n",
        "\t\t)\n",
        "\t\t\n",
        "\t\tprint('[Model] Training Completed. Model saved as %s' % save_fname)\n",
        "\t\ttimer.stop()\n",
        "\n",
        "\tdef predict_point_by_point(self, data):\n",
        "\t\t#Predict each timestep given the last sequence of true data, in effect only predicting 1 step ahead each time\n",
        "\t\tprint('[Model] Predicting Point-by-Point...')\n",
        "\t\tpredicted = self.model.predict(data)\n",
        "\t\tpredicted = np.reshape(predicted, (predicted.size,))\n",
        "\t\treturn predicted\n",
        "\n",
        "\tdef predict_sequences_multiple(self, data, window_size, prediction_len):\n",
        "\t\t#Predict sequence of 50 steps before shifting prediction run forward by 50 steps\n",
        "\t\tprint('[Model] Predicting Sequences Multiple...')\n",
        "\t\tprediction_seqs = []\n",
        "\t\tfor i in range(int(len(data)/prediction_len)):\n",
        "\t\t\tcurr_frame = data[i*prediction_len]\n",
        "\t\t\tpredicted = []\n",
        "\t\t\tfor j in range(prediction_len):\n",
        "\t\t\t\tpredicted.append(self.model.predict(curr_frame[newaxis,:,:])[0,0])\n",
        "\t\t\t\tcurr_frame = curr_frame[1:]\n",
        "\t\t\t\tcurr_frame = np.insert(curr_frame, [window_size-2], predicted[-1], axis=0)\n",
        "\t\t\tprediction_seqs.append(predicted)\n",
        "\t\treturn prediction_seqs\n",
        "\n",
        "\tdef predict_sequence_full(self, data, window_size):\n",
        "\t\t#Shift the window by 1 new prediction each time, re-run predictions on new window\n",
        "\t\tprint('[Model] Predicting Sequences Full...')\n",
        "\t\tcurr_frame = data[0]\n",
        "\t\tpredicted = []\n",
        "\t\tfor i in range(len(data)):\n",
        "\t\t\tpredicted.append(self.model.predict(curr_frame[newaxis,:,:])[0,0])\n",
        "\t\t\tcurr_frame = curr_frame[1:]\n",
        "\t\t\tcurr_frame = np.insert(curr_frame, [window_size-2], predicted[-1], axis=0)\n",
        "\t\treturn predicted"
      ],
      "execution_count": 0,
      "outputs": []
    },
    {
      "cell_type": "code",
      "metadata": {
        "id": "aTsi9WQkCX86",
        "colab_type": "code",
        "colab": {}
      },
      "source": [
        "configJson={\n",
        "\t\"data\": {\n",
        "\t\t\"filename\": \"sinewave.csv\",\n",
        "\t\t\"columns\": [\n",
        "\t\t\t\"sinewave\"\n",
        "\t\t],\n",
        "\t\t\"sequence_length\": 50,\n",
        "\t\t\"train_test_split\": 0.8,\n",
        "\t\t\"normalise\": False\n",
        "\t},\n",
        "\t\"training\": {\n",
        "\t\t\"epochs\": 4,\n",
        "\t\t\"batch_size\": 32\n",
        "\t},\n",
        "\t\"model\": {\n",
        "\t\t\"loss\": \"mse\",\n",
        "\t\t\"optimizer\": \"adam\",\n",
        "\t\t\"layers\": [\n",
        "\t\t\t{\n",
        "\t\t\t\t\"type\": \"lstm\",\n",
        "\t\t\t\t\"neurons\": 50,\n",
        "\t\t\t\t\"input_timesteps\": 49,\n",
        "\t\t\t\t\"input_dim\": 1,\n",
        "\t\t\t\t\"return_seq\": True\n",
        "\t\t\t},\n",
        "\t\t\t{\n",
        "\t\t\t\t\"type\": \"dropout\",\n",
        "\t\t\t\t\"rate\": 0.05\n",
        "\t\t\t},\n",
        "\t\t\t{\n",
        "\t\t\t\t\"type\": \"lstm\",\n",
        "\t\t\t\t\"neurons\": 100,\n",
        "\t\t\t\t\"return_seq\": False\n",
        "\t\t\t},\n",
        "\t\t\t{\n",
        "\t\t\t\t\"type\": \"dropout\",\n",
        "\t\t\t\t\"rate\": 0.05\n",
        "\t\t\t},\n",
        "\t\t\t{\n",
        "\t\t\t\t\"type\": \"dense\",\n",
        "\t\t\t\t\"neurons\": 1,\n",
        "\t\t\t\t\"activation\": \"linear\"\n",
        "\t\t\t}\n",
        "\t\t]\n",
        "\t}\n",
        "}"
      ],
      "execution_count": 0,
      "outputs": []
    },
    {
      "cell_type": "code",
      "metadata": {
        "id": "z0cFX1_3CjR5",
        "colab_type": "code",
        "outputId": "49cbf275-b5d4-4534-d93d-f1747aca7571",
        "colab": {
          "base_uri": "https://localhost:8080/",
          "height": 474
        }
      },
      "source": [
        "configs = configJson\n",
        "\n",
        "data = DataLoader(\n",
        "\tos.path.join(configs['data']['filename']),\n",
        "\tconfigs['data']['train_test_split'],\n",
        "\tconfigs['data']['columns']\n",
        ")\n",
        "\n",
        "model = Model()\n",
        "model.build_model(configs)\n",
        "x, y = data.get_train_data(\n",
        "\tseq_len = configs['data']['sequence_length'],\n",
        "\tnormalise = configs['data']['normalise']\n",
        ")\n",
        "\n",
        "modelhistory=model.train(\n",
        "\tx,\n",
        "\ty,\n",
        "\tepochs = configs['training']['epochs'],\n",
        "\tbatch_size = configs['training']['batch_size']\n",
        ")\n",
        "\n",
        "x_test, y_test = data.get_test_data(\n",
        "\tseq_len = configs['data']['sequence_length'],\n",
        "\tnormalise = configs['data']['normalise']\n",
        ")"
      ],
      "execution_count": 34,
      "outputs": [
        {
          "output_type": "stream",
          "text": [
            "data shape: (5001, 1)\n",
            "[Model] Model Compiled\n",
            "Time taken: 0:00:00.529072\n",
            "X shape: (3950, 49, 1)\n",
            "[Model] Training Started\n",
            "[Model] 7 epochs, 64 batch size\n",
            "Epoch 1/7\n",
            "3950/3950 [==============================] - 14s 4ms/step - loss: 0.0616 - mean_squared_error: 0.0616\n",
            "Epoch 2/7\n",
            "  64/3950 [..............................] - ETA: 12s - loss: 9.8032e-04 - mean_squared_error: 9.8032e-04"
          ],
          "name": "stdout"
        },
        {
          "output_type": "stream",
          "text": [
            "/usr/local/lib/python3.6/dist-packages/keras/callbacks.py:569: RuntimeWarning: Early stopping conditioned on metric `val_loss` which is not available. Available metrics are: loss,mean_squared_error\n",
            "  (self.monitor, ','.join(list(logs.keys()))), RuntimeWarning\n",
            "/usr/local/lib/python3.6/dist-packages/keras/callbacks.py:434: RuntimeWarning: Can save best model only with val_loss available, skipping.\n",
            "  'skipping.' % (self.monitor), RuntimeWarning)\n"
          ],
          "name": "stderr"
        },
        {
          "output_type": "stream",
          "text": [
            "3950/3950 [==============================] - 12s 3ms/step - loss: 0.0012 - mean_squared_error: 0.0012\n",
            "Epoch 3/7\n",
            "3950/3950 [==============================] - 12s 3ms/step - loss: 9.9664e-04 - mean_squared_error: 9.9664e-04\n",
            "Epoch 4/7\n",
            "3950/3950 [==============================] - 12s 3ms/step - loss: 9.1152e-04 - mean_squared_error: 9.1152e-04\n",
            "Epoch 5/7\n",
            "3950/3950 [==============================] - 12s 3ms/step - loss: 8.1840e-04 - mean_squared_error: 8.1840e-04\n",
            "Epoch 6/7\n",
            "3950/3950 [==============================] - 12s 3ms/step - loss: 7.4672e-04 - mean_squared_error: 7.4672e-04\n",
            "Epoch 7/7\n",
            "3950/3950 [==============================] - 12s 3ms/step - loss: 8.2588e-04 - mean_squared_error: 8.2588e-04\n",
            "[Model] Training Completed. Model saved as 14072019-070941-e7.h5\n",
            "Time taken: 0:01:28.743008\n"
          ],
          "name": "stdout"
        }
      ]
    },
    {
      "cell_type": "code",
      "metadata": {
        "id": "3p2GGmnwOB98",
        "colab_type": "code",
        "outputId": "3176fb68-0278-425a-db11-ca26cf520b2f",
        "colab": {
          "base_uri": "https://localhost:8080/",
          "height": 590
        }
      },
      "source": [
        "import matplotlib.pyplot as plt\n",
        "# Visualize training history\n",
        "print(modelhistory.history.keys())\n",
        "# summarize history for accuracy\n",
        "plt.plot(modelhistory.history['mean_squared_error'])\n",
        "plt.title('MSE')\n",
        "plt.ylabel('mse')\n",
        "plt.xlabel('epoch')\n",
        "plt.legend(['train', 'test'], loc='upper left')\n",
        "plt.show()\n",
        "# summarize history for loss\n",
        "plt.plot(modelhistory.history['loss'])\n",
        "plt.title('model loss')\n",
        "plt.ylabel('loss')\n",
        "plt.xlabel('epoch')\n",
        "plt.legend(['train', 'test'], loc='upper left')\n",
        "plt.show()"
      ],
      "execution_count": 35,
      "outputs": [
        {
          "output_type": "stream",
          "text": [
            "dict_keys(['loss', 'mean_squared_error'])\n"
          ],
          "name": "stdout"
        },
        {
          "output_type": "display_data",
          "data": {
            "image/png": "[encoded data removed]",
            "text/plain": [
              "<Figure size 432x288 with 1 Axes>"
            ]
          },
          "metadata": {
            "tags": []
          }
        },
        {
          "output_type": "display_data",
          "data": {
            "image/png": "[encoded data removed]",
            "text/plain": [
              "<Figure size 432x288 with 1 Axes>"
            ]
          },
          "metadata": {
            "tags": []
          }
        }
      ]
    },
    {
      "cell_type": "code",
      "metadata": {
        "id": "8jK62KBkCsQp",
        "colab_type": "code",
        "colab": {}
      },
      "source": [
        "predictions_multiseq = model.predict_sequences_multiple(x_test, configs['data']['sequence_length'], configs['data']['sequence_length'])\n",
        "predictions_fullseq = model.predict_sequence_full(x_test, configs['data']['sequence_length'])\n",
        "predictions_pointbypoint = model.predict_point_by_point(x_test)        "
      ],
      "execution_count": 0,
      "outputs": []
    },
    {
      "cell_type": "code",
      "metadata": {
        "id": "AR68zLJr_Urf",
        "colab_type": "code",
        "colab": {}
      },
      "source": [
        "def plot_results_multiple(predicted_data, true_data, prediction_len):\n",
        "    fig = plt.figure(facecolor='white')\n",
        "    ax = fig.add_subplot(111)\n",
        "    ax.plot(true_data, label='True Data')\n",
        "\t# Pad the list of predictions to shift it in the graph to it's correct start\n",
        "    for i, data in enumerate(predicted_data):\n",
        "        padding = [None for p in range(i * prediction_len)]\n",
        "        plt.plot(padding + data, label='Prediction')\n",
        "        plt.legend()\n",
        "    plt.show()\n",
        "    \n",
        "def plot_results(predicted_data, true_data):\n",
        "    fig = plt.figure(facecolor='white')\n",
        "    ax = fig.add_subplot(111)\n",
        "    ax.plot(true_data, label='True Data')\n",
        "    plt.plot(predicted_data, label='Prediction')\n",
        "    plt.legend()\n",
        "    plt.show()\n",
        "\n",
        "    \n",
        "plot_results_multiple(predictions_multiseq, y_test, configs['data']['sequence_length'])\n",
        "plot_results(predictions_fullseq, y_test)\n",
        "plot_results(predictions_pointbypoint, y_test)\n"
      ],
      "execution_count": 0,
      "outputs": []
    },
    {
      "cell_type": "markdown",
      "metadata": {
        "id": "fDWlHAf-OUx4",
        "colab_type": "text"
      },
      "source": [
        "##################################\n",
        "##################################\n",
        "\n",
        "------------------------------------------- **NOW the same for STOCKS** -------------------------------------------\n",
        "\n",
        "##################################\n",
        "##################################\n",
        "\n",
        "\n"
      ]
    },
    {
      "cell_type": "code",
      "metadata": {
        "id": "ZyUoD6YM_ZKF",
        "colab_type": "code",
        "colab": {}
      },
      "source": [
        "{\n",
        "\t\"data\": {\n",
        "\t\t\"filename\": \"sp500.csv\",\n",
        "\t\t\"columns\": [\n",
        "\t\t\t\"Close\"\n",
        "\t\t],\n",
        "\t\t\"sequence_length\": 50,\n",
        "\t\t\"train_test_split\": 0.85,\n",
        "\t\t\"normalise\": True\n",
        "\t},\n",
        "\t\"training\": {\n",
        "\t\t\"epochs\": 1,\n",
        "\t\t\"batch_size\": 32\n",
        "\t},\n",
        "\t\"model\": {\n",
        "\t\t\"loss\": \"mse\",\n",
        "\t\t\"optimizer\": \"adam\",\n",
        "\t\t\"layers\": [\n",
        "\t\t\t{\n",
        "\t\t\t\t\"type\": \"lstm\",\n",
        "\t\t\t\t\"neurons\": 100,\n",
        "\t\t\t\t\"input_timesteps\": 49,\n",
        "\t\t\t\t\"input_dim\": 1,\n",
        "\t\t\t\t\"return_seq\": True\n",
        "\t\t\t},\n",
        "\t\t\t{\n",
        "\t\t\t\t\"type\": \"dropout\",\n",
        "\t\t\t\t\"rate\": 0.2\n",
        "\t\t\t},\n",
        "\t\t\t{\n",
        "\t\t\t\t\"type\": \"lstm\",\n",
        "\t\t\t\t\"neurons\": 100,\n",
        "\t\t\t\t\"return_seq\": True\n",
        "\t\t\t},\n",
        "\t\t\t{\n",
        "\t\t\t\t\"type\": \"lstm\",\n",
        "\t\t\t\t\"neurons\": 100,\n",
        "\t\t\t\t\"return_seq\": False\n",
        "\t\t\t},\n",
        "\t\t\t{\n",
        "\t\t\t\t\"type\": \"dropout\",\n",
        "\t\t\t\t\"rate\": 0.2\n",
        "\t\t\t},\n",
        "\t\t\t{\n",
        "\t\t\t\t\"type\": \"dense\",\n",
        "\t\t\t\t\"neurons\": 1,\n",
        "\t\t\t\t\"activation\": \"linear\"\n",
        "\t\t\t}\n",
        "\t\t]\n",
        "\t}\n",
        "}"
      ],
      "execution_count": 0,
      "outputs": []
    },
    {
      "cell_type": "code",
      "metadata": {
        "id": "XAn6JbWmQvoa",
        "colab_type": "code",
        "colab": {}
      },
      "source": [
        "configs = json.load(open('config.json', 'r'))\n",
        "\n",
        "data = DataLoader(\n",
        "\tos.path.join('data', configs['data']['filename']),\n",
        "\tconfigs['data']['train_test_split'],\n",
        "\tconfigs['data']['columns']\n",
        ")\n",
        "\n",
        "model = Model()\n",
        "model.build_model(configs)\n",
        "\n",
        "# out-of memory generative training\n",
        "steps_per_epoch = math.ceil((data.len_train - configs['data']['sequence_length']) / configs['training']['batch_size'])\n",
        "model.train_generator(\n",
        "\tdata_gen = data.generate_train_batch(\n",
        "\t\tseq_len = configs['data']['sequence_length'],\n",
        "\t\tbatch_size = configs['training']['batch_size'],\n",
        "\t\tnormalise = configs['data']['normalise']\n",
        "\t),\n",
        "\tepochs = configs['training']['epochs'],\n",
        "\tbatch_size = configs['training']['batch_size'],\n",
        "\tsteps_per_epoch = steps_per_epoch\n",
        ")\n",
        "\n",
        "x_test, y_test = data.get_test_data(\n",
        "\tseq_len = configs['data']['sequence_length'],\n",
        "\tnormalise = configs['data']['normalise']\n",
        ")\n",
        "\n",
        "predictions_multiseq = model.predict_sequences_multiple(x_test, configs['data']['sequence_length'], configs['data']['sequence_length'])\n",
        "predictions_fullseq = model.predict_sequence_full(x_test, configs['data']['sequence_length'])\n",
        "predictions_pointbypoint = model.predict_point_by_point(x_test)        \n",
        "\n",
        "plot_results_multiple(predictions_multiseq, y_test, configs['data']['sequence_length'])\n",
        "plot_results(predictions_fullseq, y_test)\n",
        "plot_results(predictions_pointbypoint, y_test)"
      ],
      "execution_count": 0,
      "outputs": []
    },
    {
      "cell_type": "code",
      "metadata": {
        "id": "au29QU9YVT3F",
        "colab_type": "code",
        "colab": {}
      },
      "source": [
        ""
      ],
      "execution_count": 0,
      "outputs": []
    }
  ]
}